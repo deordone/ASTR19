{
 "cells": [
  {
   "cell_type": "code",
   "execution_count": 7,
   "id": "a8ca3a09-84ea-4887-92cc-c1782111684d",
   "metadata": {},
   "outputs": [],
   "source": [
    "import numpy as np\n",
    "def calc_sin(x):\n",
    "    return np.sin(x)\n",
    "\n",
    "def calc_cos(x):\n",
    "    return np.cos(x)"
   ]
  },
  {
   "cell_type": "markdown",
   "id": "f1905b10-63da-4443-ab99-ba3f1b00dacd",
   "metadata": {},
   "source": [
    "The cell above defines a function that calculates the sine of x and cosine of a given angle x."
   ]
  },
  {
   "cell_type": "code",
   "execution_count": 8,
   "id": "83722164-8627-4206-a1bb-f610ab9a51ee",
   "metadata": {},
   "outputs": [],
   "source": [
    "x_start = 0\n",
    "x_end = 2 * np.pi\n",
    "entries =  1000\n",
    "x_values = np.arange(x_start, x_end, (x_end - x_start) / entries)\n",
    "sin_values = calc_sin(x_values)\n",
    "cos_values = calc_cos(x_values)"
   ]
  },
  {
   "cell_type": "markdown",
   "id": "78be847b-453f-4745-bf76-4706dabb43ea",
   "metadata": {},
   "source": [
    "The cell above defines the start and end values for the range of angles. It also specifies the number of entries within the range and generates an array. Then it calculates the sine and cosine values for the x values."
   ]
  },
  {
   "cell_type": "code",
   "execution_count": 9,
   "id": "6c7a5fd1-0571-47d4-9e2b-2583ae54dc94",
   "metadata": {},
   "outputs": [
    {
     "name": "stdout",
     "output_type": "stream",
     "text": [
      "  x      sin(x)    cos(x)\n",
      "--------------------------\n",
      "0.0000   0.0000   1.0000\n",
      "0.0063   0.0063   1.0000\n",
      "0.0126   0.0126   0.9999\n",
      "0.0188   0.0188   0.9998\n",
      "0.0251   0.0251   0.9997\n",
      "0.0314   0.0314   0.9995\n",
      "0.0377   0.0377   0.9993\n",
      "0.0440   0.0440   0.9990\n",
      "0.0503   0.0502   0.9987\n",
      "0.0565   0.0565   0.9984\n"
     ]
    }
   ],
   "source": [
    "print(\"  x      sin(x)    cos(x)\")\n",
    "print(\"--------------------------\")\n",
    "\n",
    "for i in range(10):\n",
    "    x_val = x_values[i]\n",
    "    sin_val = sin_values[i]\n",
    "    cos_val = cos_values[i]\n",
    "\n",
    "    print(f\"{x_val:.4f}   {sin_val:.4f}   {cos_val:.4f}\")"
   ]
  },
  {
   "cell_type": "markdown",
   "id": "e95ab10a-1ca3-4317-82de-13f856fb6e87",
   "metadata": {},
   "source": [
    "The cell above prints the table header for the values of x, sin(x), and cos(x). Then it Iterate through the first 10 values of x and their corresponding sine and cosine values. Then print the values with four decimal places."
   ]
  }
 ],
 "metadata": {
  "kernelspec": {
   "display_name": "Python 3 (ipykernel)",
   "language": "python",
   "name": "python3"
  },
  "language_info": {
   "codemirror_mode": {
    "name": "ipython",
    "version": 3
   },
   "file_extension": ".py",
   "mimetype": "text/x-python",
   "name": "python",
   "nbconvert_exporter": "python",
   "pygments_lexer": "ipython3",
   "version": "3.12.0"
  }
 },
 "nbformat": 4,
 "nbformat_minor": 5
}
